{
 "cells": [
  {
   "cell_type": "code",
   "execution_count": 32,
   "id": "16f7f21f-eda5-46e6-801a-d344378e2827",
   "metadata": {},
   "outputs": [],
   "source": [
    "import pickle\n",
    "import matplotlib.pyplot as plt\n",
    "import numpy as np\n",
    "import pandas as pd\n",
    "from sklearn.metrics import accuracy_score, confusion_matrix\n",
    "from sklearn.model_selection import train_test_split\n",
    "from sklearn.discriminant_analysis import LinearDiscriminantAnalysis as LDA, QuadraticDiscriminantAnalysis as QDA"
   ]
  },
  {
   "cell_type": "code",
   "execution_count": 33,
   "id": "b380b88f",
   "metadata": {},
   "outputs": [],
   "source": [
    "names_of_labels = ['airplane', 'automobile', 'bird', 'cat', 'deer', 'dog', 'frog', 'horse', 'ship', 'truck']\n",
    "\n",
    "def load_file(path):\n",
    "    with open(path, 'rb') as fo:\n",
    "        temp = pickle.load(fo, encoding='latin1')\n",
    "    return temp"
   ]
  },
  {
   "cell_type": "code",
   "execution_count": null,
   "id": "22dd5df8",
   "metadata": {},
   "outputs": [],
   "source": [
    "dataset = [[], []]\n",
    "path = '/home/ojus/Personal/college_resources/Sem_IV/Subjects/SML/assignments/2020094_OjusSinghal_Assignment3/cifar-10-batches-py/data_batch_'\n",
    "for i in range(5):\n",
    "    dataset[1] += load_file(path + str(i + 1))['labels']\n",
    "    for row in load_file(path + str(i + 1))['data']:\n",
    "        dataset[0] += [row]"
   ]
  },
  {
   "cell_type": "code",
   "execution_count": 35,
   "id": "ccec6edb",
   "metadata": {},
   "outputs": [],
   "source": [
    "def visualize_samples(dataset):\n",
    "    fig = plt.figure(figsize=(20, 20))\n",
    "    plt.subplots_adjust(hspace=0.6)\n",
    "\n",
    "    for i in range(10):\n",
    "        count = 0\n",
    "        for j in range(len(dataset[0])):\n",
    "            if dataset[1][j] == i + 1:\n",
    "                fig.add_subplot(10, 5, 5 * i + count + 1)\n",
    "                plt.xticks([])\n",
    "                # plt.yticks([])\n",
    "                plt.imshow(dataset[0][j].reshape(3, 32, 32).transpose(1, 2, 0))\n",
    "                plt.title(names_of_labels[dataset[1][j]])\n",
    "                count += 1\n",
    "                if count == 5: break\n",
    "    plt.show()"
   ]
  },
  {
   "cell_type": "code",
   "execution_count": null,
   "id": "81aaa2de",
   "metadata": {},
   "outputs": [],
   "source": [
    "clf = LDA()\n",
    "clf.fit(dataset[0], dataset[1])"
   ]
  }
 ],
 "metadata": {
  "kernelspec": {
   "display_name": "Python 3 (ipykernel)",
   "language": "python",
   "name": "python3"
  },
  "language_info": {
   "codemirror_mode": {
    "name": "ipython",
    "version": 3
   },
   "file_extension": ".py",
   "mimetype": "text/x-python",
   "name": "python",
   "nbconvert_exporter": "python",
   "pygments_lexer": "ipython3",
   "version": "3.8.10"
  }
 },
 "nbformat": 4,
 "nbformat_minor": 5
}
